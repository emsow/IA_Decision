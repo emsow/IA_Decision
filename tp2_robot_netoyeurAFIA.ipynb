{
  "cells": [
    {
      "cell_type": "markdown",
      "metadata": {
        "id": "IDcsr5ci0wc-"
      },
      "source": [
        "# **SOW Elhadj Mamadou**\n",
        "*case study 2: Robot Netoyeur*"
      ]
    },
    {
      "cell_type": "markdown",
      "metadata": {
        "id": "84Lla0WttMvr"
      },
      "source": [
        "# **Rapport + Code**\n",
        "\n",
        "---\n",
        "\n"
      ]
    },
    {
      "cell_type": "markdown",
      "metadata": {
        "id": "g0DgjR8cowVu"
      },
      "source": [
        "# Le Robot Netoyeur"
      ]
    },
    {
      "cell_type": "raw",
      "metadata": {
        "id": "atHa9zytowVv"
      },
      "source": [
        "A rendre pour  debut decembre  ( rendre votre note book  plus un petit rapport decrivant votre MDP, incluant un shema du mdp)\n",
        "\n",
        "On considère un robot ménager. Il peut se trouver soit dans le salon, soit à sa station de charge, soit être à court de batterie. Le salon peut être propre ou sale. Il y a donc cinq états : LD (dans le salon, sale), LC (dans le salon, propre), CD (au chargeur, sale), CC (au chargeur, propre), O (hors tension).\n",
        "\n",
        "\n",
        "####\n",
        "Dans le salon, le robot peut choisir de nettoyer ou de charger.\n",
        "\n",
        "Lorsqu'il se trouve dans la station de charge, le robot peut choisir de nettoyer ou de continuer à charger.\n",
        "\n",
        "Lorsqu'il est hors tension,  chacune des deux actions (nettoyer, charger) aboutit au même résultat : rester hors tension.\n",
        "\n",
        "####\n",
        "\n",
        "Le reward pour être dans un état propre est noté rc\n",
        "\n",
        "Le reward pour être dans un état sale est  noté rd, et tel que  rd < rc\n",
        "\n",
        "Le reward pour être hors tension est noté costcrash - il doit être inférieur ou égal à rd (le salon devient sale  quand on ne le nettoie pas)\n",
        "\n",
        "\n",
        "####\n",
        "\n",
        "\n",
        "Lorsque le robot décide de nettoyer,\n",
        "* s'il est dans le salon, il risque de tomber en panne d'électricité avec une probabilité e\n",
        "* s'il se trouve dans la station de charge, il ne risque pas de tomber en panne d'électricité\n",
        "* le nettoyage d'un sol propre le laisse propre\n",
        "* Le nettoyage d'un sol sale peut parfois échouer (même si la batterie est en bon état) - soit eps la probabilité d'échec du nettoyage.\n",
        "\n",
        "Lorsque le robot décide de se recharger, l'action de rechargement l'amène toujours à la station de recharge. Lorsque le robot charge,   peut passer de propre à sale avec une probabilité pDust - et bien sur, si le salon est déjà sale, il reste sale lorsque le robot est en charge\n"
      ]
    },
    {
      "cell_type": "code",
      "execution_count": 1,
      "metadata": {
        "colab": {
          "base_uri": "https://localhost:8080/"
        },
        "id": "wVoKfrqDbyfT",
        "outputId": "aae93b8b-5765-434d-a52a-08a89bd79271"
      },
      "outputs": [
        {
          "name": "stdout",
          "output_type": "stream",
          "text": [
            "Collecting pymdptoolbox\n",
            "  Downloading pymdptoolbox-4.0-b3.zip (29 kB)\n",
            "  Preparing metadata (setup.py) ... \u001b[?25l\u001b[?25hdone\n",
            "Requirement already satisfied: numpy in /usr/local/lib/python3.10/dist-packages (from pymdptoolbox) (1.26.4)\n",
            "Requirement already satisfied: scipy in /usr/local/lib/python3.10/dist-packages (from pymdptoolbox) (1.13.1)\n",
            "Building wheels for collected packages: pymdptoolbox\n",
            "  Building wheel for pymdptoolbox (setup.py) ... \u001b[?25l\u001b[?25hdone\n",
            "  Created wheel for pymdptoolbox: filename=pymdptoolbox-4.0b3-py3-none-any.whl size=25656 sha256=53006c188550d7d00aca0618afe16f3b9c496c128bd98de7c203efe3f71fef19\n",
            "  Stored in directory: /root/.cache/pip/wheels/2b/e7/c7/d7abf9e309f3573a934fed2750c70bd75d9e9d901f7f16e183\n",
            "Successfully built pymdptoolbox\n",
            "Installing collected packages: pymdptoolbox\n",
            "Successfully installed pymdptoolbox-4.0b3\n"
          ]
        }
      ],
      "source": [
        "!pip install pymdptoolbox"
      ]
    },
    {
      "cell_type": "code",
      "execution_count": 2,
      "metadata": {
        "id": "UkT02R1I1VKN"
      },
      "outputs": [],
      "source": [
        "import mdptoolbox, mdptoolbox.example, mdptoolbox.util"
      ]
    },
    {
      "cell_type": "code",
      "execution_count": 3,
      "metadata": {
        "id": "iUoIJpxQ1Zx7"
      },
      "outputs": [],
      "source": [
        "import numpy as np"
      ]
    },
    {
      "cell_type": "markdown",
      "metadata": {
        "id": "8JXjsloKowVw"
      },
      "source": [
        "\n",
        "\n",
        "\n",
        "# 1. Modelisation et codage\n",
        "\n",
        "Modéliser le problème par un MDP   et décrire votre modèle en détail.  Puis donnez votre code"
      ]
    },
    {
      "cell_type": "markdown",
      "metadata": {
        "id": "7cYBKSkIIUcy"
      },
      "source": [
        "# Description du modèle Markov Decision Process\n",
        "\n",
        "Le MDP est defini par:\n",
        "\n",
        "\n",
        "**États (S)**\n",
        "\n",
        "Le système comporte 5 états:\n",
        "\n",
        "\n",
        "1.  **LD** Dans le salon sale\n",
        "2.  **LC** Dans le salon propre\n",
        "3.  **CD** À la station de charge sale\n",
        "4.  **CC** À la station de charge propre\n",
        "5.  **O** Hors tension.\n",
        "\n",
        "\n",
        "\n",
        "**Actions (A)**\n",
        "\n",
        "Deux actions sont possibles:\n",
        "\n",
        "\n",
        "1.   **Nettoyer**\n",
        "2.   **Charger**\n",
        "\n",
        "\n",
        "**Récompenses (R)**\n",
        "\n",
        "\n",
        "*   **rc** pour être dans un état propre\n",
        "*   **rd** pour être dans un état sale\n",
        "*   **costcrash** pour être hors tension\n",
        "\n",
        "**Probabilités de transitions**\n",
        "\n",
        "les probabilités de transitions varient en fonction de l'état et de l'action:\n",
        "\n",
        "\n",
        "\n",
        "1.  **Nettoyer (N)** :\n",
        "    *  Dans le salon sale **LD**\n",
        "      *  Avec la probabilité *e*, le robot tombe en panne\n",
        "      *  Avec la probabilité *eps*, le nettoyage échoue reste en LD\n",
        "      *  Avec la probabilité *(1-e-eps)* le nettoyage réussit passe à LC\n",
        "    *  Dans le salon propre **LC**\n",
        "      *  Avec la probabilité *1-e*, reste en LC\n",
        "      *  Avec la probabilité *e* tombe en panne\n",
        "    *  Dans la station de charge **CD**\n",
        "      *  Avec probabilité *eps*, le nettoyage échoue, le robot passe à LD.\n",
        "      *  Avec la probabilité *1-eps*, le nettoyage réussit, le robot passe à LC\n",
        "    *  Dans la station de charge **CC**\n",
        "      *  Avec la proba *1*, le robot reste à LC\n",
        "    * Dans hors tensions **O**\n",
        "      *  Avec la proba *1* le robot reste dans O\n",
        "2.  **Charger  (C)**\n",
        "    *  Dans le salon sale **LD**\n",
        "      * Avec la proba 1, le robot passe à CD\n",
        "    * Dans le salon propre **LC**\n",
        "      * Avec la proba 1, le robot passe à CC\n",
        "    * Dans la station de charge **CD**\n",
        "      * Avec la proba *1-pDust*, le robot reste dans CD\n",
        "      * Avec la proba *pDust*, le salon devient propre, et le robot passe à CC\n",
        "    * Dans la station charge **CC**\n",
        "      * Avec la proba *1-pDust*, le robot reste dans CC\n",
        "      * Avec la proba *pDust*, le salon devient sale, et le robot passe à CD.\n",
        "    * Dans hors tensions **O**\n",
        "      * Avec la proba 1, le robot reste dans O.\n",
        "     \n"
      ]
    },
    {
      "cell_type": "code",
      "execution_count": 4,
      "metadata": {
        "id": "NYBz3yaVF_t3"
      },
      "outputs": [],
      "source": [
        "def MDP(e, eps, pDust, rc, rd, costcrash):\n",
        "  # matrice de transition P[a][s][s']\n",
        "  P = np.array([\n",
        "      # nettoyer\n",
        "      [\n",
        "        [eps, 1-eps-e, 0, 0, e],\n",
        "        [0, 1-e, 0, 0, e],\n",
        "        [eps, 1-eps, 0, 0,0 ],\n",
        "        [0, 1, 0, 0, 0],\n",
        "        [0, 0, 0, 0, 1]\n",
        "      ],\n",
        "      # Charger\n",
        "      [\n",
        "          [0, 0, 1, 0, 0],\n",
        "          [0, 0, 0, 1, 0],\n",
        "          [0, 0, 1-pDust, pDust, 0],\n",
        "          [0, 0, pDust, 1-pDust, 0],\n",
        "          [0, 0, 0, 0, 1]\n",
        "      ]\n",
        "  ])\n",
        "\n",
        "  # Matrice de recompenses\n",
        "  R = np.array([\n",
        "      [rd, rd],\n",
        "      [rc, rc],\n",
        "      [rd, rd],\n",
        "      [rc, rc],\n",
        "      [costcrash, costcrash]\n",
        "  ])\n",
        "\n",
        "  return P, R"
      ]
    },
    {
      "cell_type": "markdown",
      "metadata": {
        "id": "2BDTJ-PAbkEk"
      },
      "source": [
        "# Schema du MDP"
      ]
    },
    {
      "cell_type": "markdown",
      "metadata": {
        "id": "q7eTF3NvkFaE"
      },
      "source": [
        "![mdp_graph_formules.png](data:image/png;base64,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)"
      ]
    },
    {
      "cell_type": "code",
      "execution_count": 5,
      "metadata": {
        "id": "-pi5nP-TWET8"
      },
      "outputs": [],
      "source": [
        "# donner des valeur radom au paramètres\n",
        "e = 0.1\n",
        "eps = 0\n",
        "pDust = 0\n",
        "# rewards\n",
        "rc = 1 # rc>rd\n",
        "rd = -1\n",
        "costcrash = -1"
      ]
    },
    {
      "cell_type": "code",
      "execution_count": 6,
      "metadata": {
        "id": "8X1Jkd5ZWQxf"
      },
      "outputs": [],
      "source": [
        "P, R = MDP(e, eps, pDust, rc, rd, costcrash)"
      ]
    },
    {
      "cell_type": "code",
      "execution_count": 7,
      "metadata": {
        "id": "0K8ty7sbWU8z"
      },
      "outputs": [],
      "source": [
        "mdptoolbox.util.check(P, R)"
      ]
    },
    {
      "cell_type": "markdown",
      "metadata": {
        "id": "SdYT4NNBowVy"
      },
      "source": [
        "# 2. Analyse des resultats\n",
        "\n",
        "A) Déterminer la meilleure politique.\n",
        "\n",
        "a) Lorsque la probabilité d'être à court de batterie est élevée\n",
        "\n",
        "b) Lorsqu'elle est faible\n",
        "\n",
        "(expliquer les résultats)\n",
        "\n",
        "B) Quelle politique est choisie si le robot a une très bonne batterie (c'est-à-dire que la probabilité d'être à court de charge est très faible) ? expliquez votre resultat\n",
        "\n",
        "\n",
        "C)  Quelle politique est choisie si le salon se salit rapidement (lorsque la probabilité de poussière augmente) ? expliquez votre resultat\n",
        "\n"
      ]
    },
    {
      "cell_type": "code",
      "execution_count": 8,
      "metadata": {
        "colab": {
          "base_uri": "https://localhost:8080/"
        },
        "id": "11gQg_AF2TwO",
        "outputId": "2af84d6b-a2bd-4fd7-cc26-798b28d9c76f"
      },
      "outputs": [
        {
          "name": "stdout",
          "output_type": "stream",
          "text": [
            "Politique optimale pour une probabilité élevée d'être à court de batterie:\n",
            "(0, 1, 0, 0, 0)\n"
          ]
        }
      ],
      "source": [
        "# a) Lorsque la probabilité d'être à court de batterie est élevée (e élevé)\n",
        "e_eleve = 0.8  # Exemple de probabilité élevée\n",
        "P_eleve, R_eleve = MDP(e_eleve, eps, pDust, rc, rd, costcrash)\n",
        "pi_eleve = mdptoolbox.mdp.PolicyIteration(P, R, 0.9) # discount factor\n",
        "pi_eleve.run()\n",
        "print(\"Politique optimale pour une probabilité élevée d'être à court de batterie:\")\n",
        "print(pi_eleve.policy)\n"
      ]
    },
    {
      "cell_type": "code",
      "execution_count": 9,
      "metadata": {
        "colab": {
          "base_uri": "https://localhost:8080/"
        },
        "id": "6oJ0paG-EggM",
        "outputId": "e358ea82-84b7-4f0a-caee-b41eadf9451d"
      },
      "outputs": [
        {
          "name": "stdout",
          "output_type": "stream",
          "text": [
            "\n",
            "Politique optimale pour une probabilité faible d'être à court de batterie:\n",
            "(0, 1, 0, 0, 0)\n"
          ]
        }
      ],
      "source": [
        "# b) Lorsque la probabilité d'être à court de batterie est faible (e faible)\n",
        "e_faible = 0.01  # Exemple de probabilité faible\n",
        "P_faible, R_faible = MDP(e_faible, eps, pDust, rc, rd, costcrash)\n",
        "pi_faible = mdptoolbox.mdp.PolicyIteration(P_faible, R_faible, 0.9) # discount factor\n",
        "pi_faible.run()\n",
        "print(\"\\nPolitique optimale pour une probabilité faible d'être à court de batterie:\")\n",
        "print(pi_faible.policy)\n"
      ]
    },
    {
      "cell_type": "markdown",
      "metadata": {
        "id": "B9ZmZm-lTL8m"
      },
      "source": [
        "# Explication des résultats\n",
        "\n",
        "*  Lorsque la probabilité d'être à court de batterie est élevée, la politique optimale (1, 1, 0, 0, 0) indique que le robot devrait se charger s'il est dans le salon.\n",
        "\n",
        "*  Et lorsque la probabilité d'être à court de batterie est faible, la politique optimale (0, 1, 0, 0, 0) suggère de nettoyer si le salon est sale, sinon de choisir l'action de chargement si le salon est propre et on est pas dans la station de charge."
      ]
    },
    {
      "cell_type": "code",
      "execution_count": 10,
      "metadata": {
        "colab": {
          "base_uri": "https://localhost:8080/"
        },
        "id": "-p4pY4WqUt7_",
        "outputId": "f23e0a74-f92b-45f5-d710-f36522de611d"
      },
      "outputs": [
        {
          "name": "stdout",
          "output_type": "stream",
          "text": [
            "\n",
            "Politique optimale lorsque le robot a une très bonne batterie : \n",
            "(0, 1, 0, 0, 0)\n"
          ]
        }
      ],
      "source": [
        "# B) Quelle politique est choisie si le robot a une très bonne batterie\n",
        "e_bonne= 0.1\n",
        "P_bonne, R_bonne = MDP(e_bonne, eps, pDust, rc, rd, costcrash)\n",
        "\n",
        "pi_bonne = mdptoolbox.mdp.PolicyIteration(P, R, 0.9)\n",
        "pi_bonne.run()\n",
        "\n",
        "\n",
        "# Affichage de la meilleure politique\n",
        "print(\"\\nPolitique optimale lorsque le robot a une très bonne batterie : \")\n",
        "print(pi_bonne.policy)"
      ]
    },
    {
      "cell_type": "markdown",
      "metadata": {
        "id": "64VQc8UUXHoL"
      },
      "source": [
        "# Explication du résultat\n",
        "-  Lorsque la probabilité d'être à court de batterie est faible, la politique optimale (0, 1, 0, 0, 0) suggère de nettoyer si le salon est sale, sinon de choisir l'action de chargement si le salon est propre et on est pas dans la station de charge."
      ]
    },
    {
      "cell_type": "code",
      "execution_count": 11,
      "metadata": {
        "colab": {
          "base_uri": "https://localhost:8080/"
        },
        "id": "cScH_qc5XUI9",
        "outputId": "ad92044f-a7c4-47ca-fa15-bb5c286bf665"
      },
      "outputs": [
        {
          "name": "stdout",
          "output_type": "stream",
          "text": [
            "\n",
            "Politique optimale lorsque le salon se salit rapidement:\n",
            "(0, 1, 0, 0, 0)\n"
          ]
        }
      ],
      "source": [
        "# C) Quelle politique est choisie si le salon se salit rapidement ?\n",
        "pDust_eleve = 0.9  # Exemple de probabilité élevée de poussière\n",
        "P_pDust, R_pDust = MDP(e, eps, pDust_eleve, rc, rd, costcrash)\n",
        "pi_pDust = mdptoolbox.mdp.PolicyIteration(P_pDust, R_pDust, 0.9)\n",
        "pi_pDust.run()\n",
        "print(\"\\nPolitique optimale lorsque le salon se salit rapidement:\")\n",
        "print(pi_pDust.policy)\n"
      ]
    },
    {
      "cell_type": "markdown",
      "metadata": {
        "id": "8m368oi0X8q6"
      },
      "source": [
        "# Explication du resultat\n",
        "Lorsque le salon se salit rapidement(la proba pDust est élevée), la politique optimale (0, 1, 0, 0, 0) suggère de nettoyer sauf si le salon est propre et on est pas de la station de charge."
      ]
    },
    {
      "cell_type": "markdown",
      "metadata": {
        "id": "Z3QEfANZowV8"
      },
      "source": [
        "\n",
        "# 3. Amelioration du modele\n",
        "\n",
        "Ameliorez votre modèle de manière à prendre en considération plusieurs niveaux de batterie (élevé, moyen, faible  par exemple). Collez votre programme ci dessous et expliquez la politique optimale trouvee"
      ]
    },
    {
      "cell_type": "code",
      "execution_count": 12,
      "metadata": {
        "colab": {
          "base_uri": "https://localhost:8080/"
        },
        "id": "kPJITksDbF0P",
        "outputId": "5e802306-0a7e-49c9-cb9d-a33ac863c5cc"
      },
      "outputs": [
        {
          "name": "stdout",
          "output_type": "stream",
          "text": [
            "Avec rc=-5 et pDust=0.1, la politique optimale est : (1, 0, 1, 0, 0)\n",
            "Avec rc=-5 et pDust=0.2, la politique optimale est : (1, 0, 1, 0, 0)\n",
            "Avec rc=-5 et pDust=0.3, la politique optimale est : (1, 0, 1, 0, 0)\n",
            "Avec rc=-5 et pDust=0.4, la politique optimale est : (1, 0, 1, 1, 0)\n",
            "Avec rc=-5 et pDust=0.5, la politique optimale est : (1, 0, 1, 1, 0)\n",
            "Avec rc=-5 et pDust=0.6, la politique optimale est : (1, 0, 1, 1, 0)\n",
            "Avec rc=-5 et pDust=0.7, la politique optimale est : (1, 0, 1, 1, 0)\n",
            "Avec rc=-5 et pDust=0.8, la politique optimale est : (1, 0, 1, 1, 0)\n",
            "Avec rc=-5 et pDust=0.9, la politique optimale est : (1, 0, 1, 1, 0)\n",
            "Avec rc=-5 et pDust=1, la politique optimale est : (0, 0, 0, 1, 0)\n",
            "Avec rc=0 et pDust=0.1, la politique optimale est : (0, 0, 0, 0, 0)\n",
            "Avec rc=0 et pDust=0.2, la politique optimale est : (0, 0, 0, 0, 0)\n",
            "Avec rc=0 et pDust=0.3, la politique optimale est : (0, 0, 0, 0, 0)\n",
            "Avec rc=0 et pDust=0.4, la politique optimale est : (0, 0, 0, 0, 0)\n",
            "Avec rc=0 et pDust=0.5, la politique optimale est : (0, 0, 0, 0, 0)\n",
            "Avec rc=0 et pDust=0.6, la politique optimale est : (0, 0, 0, 0, 0)\n",
            "Avec rc=0 et pDust=0.7, la politique optimale est : (0, 0, 0, 0, 0)\n",
            "Avec rc=0 et pDust=0.8, la politique optimale est : (0, 0, 0, 0, 0)\n",
            "Avec rc=0 et pDust=0.9, la politique optimale est : (0, 0, 0, 0, 0)\n",
            "Avec rc=0 et pDust=1, la politique optimale est : (0, 0, 0, 0, 0)\n",
            "Avec rc=10 et pDust=0.1, la politique optimale est : (0, 1, 0, 0, 0)\n",
            "Avec rc=10 et pDust=0.2, la politique optimale est : (0, 1, 0, 0, 0)\n",
            "Avec rc=10 et pDust=0.3, la politique optimale est : (0, 1, 0, 0, 0)\n",
            "Avec rc=10 et pDust=0.4, la politique optimale est : (0, 1, 0, 0, 0)\n",
            "Avec rc=10 et pDust=0.5, la politique optimale est : (0, 1, 0, 0, 0)\n",
            "Avec rc=10 et pDust=0.6, la politique optimale est : (0, 1, 0, 0, 0)\n",
            "Avec rc=10 et pDust=0.7, la politique optimale est : (0, 1, 0, 0, 0)\n",
            "Avec rc=10 et pDust=0.8, la politique optimale est : (0, 1, 0, 0, 0)\n",
            "Avec rc=10 et pDust=0.9, la politique optimale est : (0, 1, 0, 0, 0)\n",
            "Avec rc=10 et pDust=1, la politique optimale est : (0, 1, 0, 0, 0)\n"
          ]
        }
      ],
      "source": [
        "# Lorsque e=0.1, la meilleure politique dépend-elle de rc ? de pDust ?\n",
        "\n",
        "# Test avec plusieurs combinaisons de valeurs pour rc et pDust afin d'observer comment\n",
        "# ces changements affectent la politique optimale du système\n",
        "e = 0.1\n",
        "results = []\n",
        "\n",
        "# Liste des valeurs à tester pour rc et pDust\n",
        "rc_values = [-5, 0, 10]\n",
        "pDust_values = [0.1, 0.2, 0.3, 0.4, 0.5, 0.6, 0.7, 0.8, 0.9, 1]\n",
        "\n",
        "# Test de l'impact de différentes valeurs de rc et pDust sur la politique optimale\n",
        "for rc_val in rc_values:\n",
        "    for pDust_val in pDust_values:\n",
        "      rd, costcrash = rc-1, rc-1  #afin de garder rd < rc et rd = eps\n",
        "      P, R = MDP(e, eps, pDust_val, rc_val, rd, costcrash)\n",
        "      policy = mdptoolbox.mdp.PolicyIteration(P, R, 0.9)\n",
        "      policy.run()\n",
        "      policy = policy.policy\n",
        "      results.append((rc_val, pDust_val, policy))\n",
        "\n",
        "# Affichage des résultats\n",
        "for rc_val, pDust_val, policy in results:\n",
        "    print(f\"Avec rc={rc_val} et pDust={pDust_val}, la politique optimale est :\", policy)"
      ]
    },
    {
      "cell_type": "markdown",
      "metadata": {
        "id": "xY-L9YlYbTVH"
      },
      "source": [
        "# Explication du résultat\n",
        "\n",
        "La politique optimale semble dépendre de la valeur de rc, avec des variations notables lorsque rc=-5.\n",
        "\n",
        "Pour les valeurs de rc=0 et rc=10, la politique optimale reste constante, indiquant que la dépendance de la politique optimale semble être plus influencée par la valeur de rc que par pDust."
      ]
    }
  ],
  "metadata": {
    "colab": {
      "provenance": []
    },
    "kernelspec": {
      "display_name": "m2",
      "language": "python",
      "name": "python3"
    },
    "language_info": {
      "codemirror_mode": {
        "name": "ipython",
        "version": 3
      },
      "file_extension": ".py",
      "mimetype": "text/x-python",
      "name": "python",
      "nbconvert_exporter": "python",
      "pygments_lexer": "ipython3",
      "version": "3.9.16"
    }
  },
  "nbformat": 4,
  "nbformat_minor": 0
}
